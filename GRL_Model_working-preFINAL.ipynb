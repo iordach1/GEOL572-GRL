{
  "nbformat": 4,
  "nbformat_minor": 0,
  "metadata": {
    "colab": {
      "name": "GRL_Model.ipynb",
      "provenance": [],
      "collapsed_sections": [],
      "include_colab_link": true
    },
    "kernelspec": {
      "name": "python3",
      "display_name": "Python 3"
    },
    "language_info": {
      "codemirror_mode": {
        "name": "ipython",
        "version": 3
      },
      "file_extension": ".py",
      "mimetype": "text/x-python",
      "name": "python",
      "nbconvert_exporter": "python",
      "pygments_lexer": "ipython3",
      "version": "3.7.6"
    }
  },
  "cells": [
    {
      "cell_type": "markdown",
      "metadata": {
        "id": "view-in-github",
        "colab_type": "text"
      },
      "source": [
        "<a href=\"https://colab.research.google.com/github/iordach1/GEOL572-GRL/blob/master/GRL_Model_working-preFINAL.ipynb\" target=\"_parent\"><img src=\"https://colab.research.google.com/assets/colab-badge.svg\" alt=\"Open In Colab\"/></a>"
      ]
    },
    {
      "cell_type": "markdown",
      "metadata": {
        "id": "G4KWGGv5A7F2",
        "colab_type": "text"
      },
      "source": [
        "# <center>FloPy Regional Model Development</center>\n",
        "The following script develops a regional MODFLOW model using FloPy and associated packages. The study domain is the Mahomet Aquifer in Illinois, particulary in the heavily irrigated region of Mason County. \n",
        "\n",
        "Note that you may not always have to compile MODFLOW, and you only have initialize code (#1) and import large files (#2) the first time you run the code in a session. Most of the time, you will only have to run #3 onward. "
      ]
    },
    {
      "cell_type": "markdown",
      "metadata": {
        "id": "MZeCuFvptP_f",
        "colab_type": "text"
      },
      "source": [
        "# 0. Compile MODFLOW (DO NOT RUN UNLESS NECESSARY)\n"
      ]
    },
    {
      "cell_type": "markdown",
      "metadata": {
        "id": "I0WdSEtOElwW",
        "colab_type": "text"
      },
      "source": [
        "When using Google CoLab, you cannot simply use an existing MODFLOW executable, but have to compile a a new one for use in this environment. I have already compiled MODFLOW, but am currently unsure if it will work for everybody. Please do not run the following code unless you get an error that the MODFLOW file was not found (will occur when running the model). "
      ]
    },
    {
      "cell_type": "code",
      "metadata": {
        "id": "Imxy2VTEuFWa",
        "colab_type": "code",
        "colab": {}
      },
      "source": [
        "#!pip install https://github.com/modflowpy/pymake/zipball/master # install of the pymake package to compile MODFLOW"
      ],
      "execution_count": 0,
      "outputs": []
    },
    {
      "cell_type": "code",
      "metadata": {
        "colab_type": "code",
        "id": "GRcmZ0Oudvp1",
        "colab": {}
      },
      "source": [
        "# Code to compile the MODFLOW executable\n",
        "\n",
        "#import pymake\n",
        "\n",
        "#def make_mf2005():\n",
        "#    pymake.build_apps('mf2005')\n",
        "\n",
        "\n",
        "#if __name__ == \"__main__\":\n",
        "#    make_mf2005()\n",
        "\n",
        "\n",
        "\n",
        "\n",
        "\n",
        "#import pymake\n",
        "\n",
        "#def make_mfnwt():\n",
        "#    pymake.build_apps('mfnwt')\n",
        "\n",
        "#if __name__ == \"__main__\":\n",
        "#    make_mfnwt()\n"
      ],
      "execution_count": 0,
      "outputs": []
    },
    {
      "cell_type": "markdown",
      "metadata": {
        "id": "8Wf-e4N6BUJo",
        "colab_type": "text"
      },
      "source": [
        "# 1 Initializing the code\n"
      ]
    },
    {
      "cell_type": "markdown",
      "metadata": {
        "id": "N3dybMuFEr1q",
        "colab_type": "text"
      },
      "source": [
        "These few code blocks only have to be run at the beginning of the script or if a runtime connection is lost. See details for each below. "
      ]
    },
    {
      "cell_type": "markdown",
      "metadata": {
        "id": "AiQlOJosBqXy",
        "colab_type": "text"
      },
      "source": [
        "## 1A. Install needed packages\n",
        "There are three packages that must be installed in the CoLab environment to run this script. These include \n",
        "\n",
        "\"pyproj\", which allows for the conversion from WGS84 coordinates (as obtained from Google Earth), which are in lat/long decimal degrees, to Illimap coordinates, a specialized projection using Lambert Conformal Conic that is optimized for developing a model grid in the state of Illinois. \n",
        "\n",
        "\"flopy\" creates modflow executables, runs the model, and allows for manipulation of results.\n",
        "\n",
        "\"rasterio\" allows for the reading of raster files, and is closely tied to the development of \"flopy\" input files\n"
      ]
    },
    {
      "cell_type": "code",
      "metadata": {
        "colab_type": "code",
        "id": "z0rwRhzkGuf3",
        "outputId": "63034efb-cf9e-455f-8775-eb9425fb9de2",
        "colab": {
          "base_uri": "https://localhost:8080/",
          "height": 1000
        }
      },
      "source": [
        "#Get the EEG, the BP monitor, and the AVV.\n",
        "!pip install pyproj\n",
        "!pip install flopy\n",
        "!pip install rasterio\n",
        "!pip install pykrige\n",
        "!pip install metpy\n",
        "!apt-get -qq install python-cartopy python3-cartopy"
      ],
      "execution_count": 3,
      "outputs": [
        {
          "output_type": "stream",
          "text": [
            "Collecting pyproj\n",
            "\u001b[?25l  Downloading https://files.pythonhosted.org/packages/e5/c3/071e080230ac4b6c64f1a2e2f9161c9737a2bc7b683d2c90b024825000c0/pyproj-2.6.1.post1-cp36-cp36m-manylinux2010_x86_64.whl (10.9MB)\n",
            "\u001b[K     |████████████████████████████████| 10.9MB 2.7MB/s \n",
            "\u001b[?25hInstalling collected packages: pyproj\n",
            "Successfully installed pyproj-2.6.1.post1\n",
            "Collecting flopy\n",
            "\u001b[?25l  Downloading https://files.pythonhosted.org/packages/b7/6a/44206d49f3fa6edbb83e01ff4c58aa8dc188e0071de88cf14b36e19b3f2a/flopy-3.3.0.zip (1.0MB)\n",
            "\u001b[K     |████████████████████████████████| 1.1MB 2.6MB/s \n",
            "\u001b[?25hRequirement already satisfied: numpy>=1.9 in /usr/local/lib/python3.6/dist-packages (from flopy) (1.18.4)\n",
            "Building wheels for collected packages: flopy\n",
            "  Building wheel for flopy (setup.py) ... \u001b[?25l\u001b[?25hdone\n",
            "  Created wheel for flopy: filename=flopy-3.3.0-cp36-none-any.whl size=1038572 sha256=4e47642db4a90f322ec3413802ae20bcea75b0e73546ef0b6486b1ada3ed81ed\n",
            "  Stored in directory: /root/.cache/pip/wheels/d6/af/5a/6d32a03da175b47d8f8cca93b4d363a864cf604164b85af785\n",
            "Successfully built flopy\n",
            "Installing collected packages: flopy\n",
            "Successfully installed flopy-3.3.0\n",
            "Collecting rasterio\n",
            "\u001b[?25l  Downloading https://files.pythonhosted.org/packages/39/76/7487c1eefeb8f3a0a60b37d74702c63c1b4ea701e8ce16bb7283b7f20a1f/rasterio-1.1.4-cp36-cp36m-manylinux1_x86_64.whl (18.2MB)\n",
            "\u001b[K     |████████████████████████████████| 18.2MB 1.4MB/s \n",
            "\u001b[?25hRequirement already satisfied: numpy in /usr/local/lib/python3.6/dist-packages (from rasterio) (1.18.4)\n",
            "Requirement already satisfied: attrs in /usr/local/lib/python3.6/dist-packages (from rasterio) (19.3.0)\n",
            "Collecting snuggs>=1.4.1\n",
            "  Downloading https://files.pythonhosted.org/packages/cc/0e/d27d6e806d6c0d1a2cfdc5d1f088e42339a0a54a09c3343f7f81ec8947ea/snuggs-1.4.7-py3-none-any.whl\n",
            "Collecting click-plugins\n",
            "  Downloading https://files.pythonhosted.org/packages/e9/da/824b92d9942f4e472702488857914bdd50f73021efea15b4cad9aca8ecef/click_plugins-1.1.1-py2.py3-none-any.whl\n",
            "Requirement already satisfied: click<8,>=4.0 in /usr/local/lib/python3.6/dist-packages (from rasterio) (7.1.2)\n",
            "Collecting affine\n",
            "  Downloading https://files.pythonhosted.org/packages/ac/a6/1a39a1ede71210e3ddaf623982b06ecfc5c5c03741ae659073159184cd3e/affine-2.3.0-py2.py3-none-any.whl\n",
            "Collecting cligj>=0.5\n",
            "  Downloading https://files.pythonhosted.org/packages/e4/be/30a58b4b0733850280d01f8bd132591b4668ed5c7046761098d665ac2174/cligj-0.5.0-py3-none-any.whl\n",
            "Requirement already satisfied: pyparsing>=2.1.6 in /usr/local/lib/python3.6/dist-packages (from snuggs>=1.4.1->rasterio) (2.4.7)\n",
            "Installing collected packages: snuggs, click-plugins, affine, cligj, rasterio\n",
            "Successfully installed affine-2.3.0 click-plugins-1.1.1 cligj-0.5.0 rasterio-1.1.4 snuggs-1.4.7\n",
            "Collecting pykrige\n",
            "\u001b[?25l  Downloading https://files.pythonhosted.org/packages/94/16/a37be67b6eff817a44b548e1c4012df6201ea7fc0f9d59bc1a455e6924f9/PyKrige-1.5.0-cp36-cp36m-manylinux2010_x86_64.whl (968kB)\n",
            "\u001b[K     |████████████████████████████████| 972kB 2.8MB/s \n",
            "\u001b[?25hRequirement already satisfied: scipy>=1.1.0 in /usr/local/lib/python3.6/dist-packages (from pykrige) (1.4.1)\n",
            "Requirement already satisfied: numpy>=1.14.5 in /usr/local/lib/python3.6/dist-packages (from pykrige) (1.18.4)\n",
            "Installing collected packages: pykrige\n",
            "Successfully installed pykrige-1.5.0\n",
            "Collecting metpy\n",
            "\u001b[?25l  Downloading https://files.pythonhosted.org/packages/47/4d/e33b76fdca421daeca8ac06fc012de40553364e7e79468040ea42f66a989/MetPy-0.12.1-py3-none-any.whl (319kB)\n",
            "\u001b[K     |████████████████████████████████| 327kB 2.8MB/s \n",
            "\u001b[?25hRequirement already satisfied: pandas>=0.22.0 in /usr/local/lib/python3.6/dist-packages (from metpy) (1.0.3)\n",
            "Collecting pooch>=0.1\n",
            "\u001b[?25l  Downloading https://files.pythonhosted.org/packages/1c/c3/0a423ed09fa22e9003b8bf72c2863fde80585badbc1a726176eaff3cd450/pooch-1.1.1-py3-none-any.whl (45kB)\n",
            "\u001b[K     |████████████████████████████████| 51kB 7.6MB/s \n",
            "\u001b[?25hRequirement already satisfied: traitlets>=4.3.0 in /usr/local/lib/python3.6/dist-packages (from metpy) (4.3.3)\n",
            "Requirement already satisfied: scipy>=1.0 in /usr/local/lib/python3.6/dist-packages (from metpy) (1.4.1)\n",
            "Collecting pint>=0.10.1\n",
            "\u001b[?25l  Downloading https://files.pythonhosted.org/packages/9d/db/7a2204b03c22069839958df5723eb2718d50c33052e0da84c9a83de14ea4/Pint-0.11-py2.py3-none-any.whl (186kB)\n",
            "\u001b[K     |████████████████████████████████| 194kB 48.2MB/s \n",
            "\u001b[?25hRequirement already satisfied: numpy>=1.16.0 in /usr/local/lib/python3.6/dist-packages (from metpy) (1.18.4)\n",
            "Requirement already satisfied: matplotlib>=2.1.0 in /usr/local/lib/python3.6/dist-packages (from metpy) (3.2.1)\n",
            "Requirement already satisfied: xarray>=0.13.0 in /usr/local/lib/python3.6/dist-packages (from metpy) (0.15.1)\n",
            "Requirement already satisfied: python-dateutil>=2.6.1 in /usr/local/lib/python3.6/dist-packages (from pandas>=0.22.0->metpy) (2.8.1)\n",
            "Requirement already satisfied: pytz>=2017.2 in /usr/local/lib/python3.6/dist-packages (from pandas>=0.22.0->metpy) (2018.9)\n",
            "Requirement already satisfied: requests in /usr/local/lib/python3.6/dist-packages (from pooch>=0.1->metpy) (2.23.0)\n",
            "Requirement already satisfied: packaging in /usr/local/lib/python3.6/dist-packages (from pooch>=0.1->metpy) (20.3)\n",
            "Collecting appdirs\n",
            "  Downloading https://files.pythonhosted.org/packages/3b/00/2344469e2084fb287c2e0b57b72910309874c3245463acd6cf5e3db69324/appdirs-1.4.4-py2.py3-none-any.whl\n",
            "Requirement already satisfied: decorator in /usr/local/lib/python3.6/dist-packages (from traitlets>=4.3.0->metpy) (4.4.2)\n",
            "Requirement already satisfied: six in /usr/local/lib/python3.6/dist-packages (from traitlets>=4.3.0->metpy) (1.12.0)\n",
            "Requirement already satisfied: ipython-genutils in /usr/local/lib/python3.6/dist-packages (from traitlets>=4.3.0->metpy) (0.2.0)\n",
            "Requirement already satisfied: setuptools in /usr/local/lib/python3.6/dist-packages (from pint>=0.10.1->metpy) (46.1.3)\n",
            "Requirement already satisfied: kiwisolver>=1.0.1 in /usr/local/lib/python3.6/dist-packages (from matplotlib>=2.1.0->metpy) (1.2.0)\n",
            "Requirement already satisfied: pyparsing!=2.0.4,!=2.1.2,!=2.1.6,>=2.0.1 in /usr/local/lib/python3.6/dist-packages (from matplotlib>=2.1.0->metpy) (2.4.7)\n",
            "Requirement already satisfied: cycler>=0.10 in /usr/local/lib/python3.6/dist-packages (from matplotlib>=2.1.0->metpy) (0.10.0)\n",
            "Requirement already satisfied: idna<3,>=2.5 in /usr/local/lib/python3.6/dist-packages (from requests->pooch>=0.1->metpy) (2.9)\n",
            "Requirement already satisfied: certifi>=2017.4.17 in /usr/local/lib/python3.6/dist-packages (from requests->pooch>=0.1->metpy) (2020.4.5.1)\n",
            "Requirement already satisfied: chardet<4,>=3.0.2 in /usr/local/lib/python3.6/dist-packages (from requests->pooch>=0.1->metpy) (3.0.4)\n",
            "Requirement already satisfied: urllib3!=1.25.0,!=1.25.1,<1.26,>=1.21.1 in /usr/local/lib/python3.6/dist-packages (from requests->pooch>=0.1->metpy) (1.24.3)\n",
            "Installing collected packages: appdirs, pooch, pint, metpy\n",
            "Successfully installed appdirs-1.4.4 metpy-0.12.1 pint-0.11 pooch-1.1.1\n",
            "Selecting previously unselected package python-pkg-resources.\n",
            "(Reading database ... 144429 files and directories currently installed.)\n",
            "Preparing to unpack .../0-python-pkg-resources_39.0.1-2_all.deb ...\n",
            "Unpacking python-pkg-resources (39.0.1-2) ...\n",
            "Selecting previously unselected package python-pyshp.\n",
            "Preparing to unpack .../1-python-pyshp_1.2.12+ds-1_all.deb ...\n",
            "Unpacking python-pyshp (1.2.12+ds-1) ...\n",
            "Selecting previously unselected package python-shapely.\n",
            "Preparing to unpack .../2-python-shapely_1.6.4-1_amd64.deb ...\n",
            "Unpacking python-shapely (1.6.4-1) ...\n",
            "Selecting previously unselected package python-six.\n",
            "Preparing to unpack .../3-python-six_1.11.0-2_all.deb ...\n",
            "Unpacking python-six (1.11.0-2) ...\n",
            "Selecting previously unselected package python-cartopy:amd64.\n",
            "Preparing to unpack .../4-python-cartopy_0.14.2+dfsg1-2build3_amd64.deb ...\n",
            "Unpacking python-cartopy:amd64 (0.14.2+dfsg1-2build3) ...\n",
            "Selecting previously unselected package python3-pkg-resources.\n",
            "Preparing to unpack .../5-python3-pkg-resources_39.0.1-2_all.deb ...\n",
            "Unpacking python3-pkg-resources (39.0.1-2) ...\n",
            "Selecting previously unselected package python3-pyshp.\n",
            "Preparing to unpack .../6-python3-pyshp_1.2.12+ds-1_all.deb ...\n",
            "Unpacking python3-pyshp (1.2.12+ds-1) ...\n",
            "Selecting previously unselected package python3-shapely.\n",
            "Preparing to unpack .../7-python3-shapely_1.6.4-1_amd64.deb ...\n",
            "Unpacking python3-shapely (1.6.4-1) ...\n",
            "Selecting previously unselected package python3-six.\n",
            "Preparing to unpack .../8-python3-six_1.11.0-2_all.deb ...\n",
            "Unpacking python3-six (1.11.0-2) ...\n",
            "Selecting previously unselected package python3-cartopy:amd64.\n",
            "Preparing to unpack .../9-python3-cartopy_0.14.2+dfsg1-2build3_amd64.deb ...\n",
            "Unpacking python3-cartopy:amd64 (0.14.2+dfsg1-2build3) ...\n",
            "Setting up python-shapely (1.6.4-1) ...\n",
            "Setting up python-pyshp (1.2.12+ds-1) ...\n",
            "Setting up python3-six (1.11.0-2) ...\n",
            "Setting up python3-shapely (1.6.4-1) ...\n",
            "Setting up python3-pyshp (1.2.12+ds-1) ...\n",
            "Setting up python3-pkg-resources (39.0.1-2) ...\n",
            "Setting up python-pkg-resources (39.0.1-2) ...\n",
            "Setting up python-six (1.11.0-2) ...\n",
            "Setting up python3-cartopy:amd64 (0.14.2+dfsg1-2build3) ...\n",
            "Setting up python-cartopy:amd64 (0.14.2+dfsg1-2build3) ...\n"
          ],
          "name": "stdout"
        }
      ]
    },
    {
      "cell_type": "markdown",
      "metadata": {
        "id": "g6tMviUVufyx",
        "colab_type": "text"
      },
      "source": [
        "## 1B. Import packages"
      ]
    },
    {
      "cell_type": "code",
      "metadata": {
        "colab_type": "code",
        "id": "It0QTEJCQCuV",
        "outputId": "4120c548-75e1-40a2-c55f-59a08a742134",
        "colab": {
          "base_uri": "https://localhost:8080/",
          "height": 35
        }
      },
      "source": [
        "#And get the machine that goes 'ping!'.\n",
        "import flopy # import flopy to develop, run, and analyze the model\n",
        "from flopy.utils import Raster # plot rasters from flopy\n",
        "import matplotlib as mp\n",
        "import pandas as pd\n",
        "import pyproj # change between WGS84 and Illimap coordinates\n",
        "import rasterio  # import rasters\n",
        "import matplotlib.pyplot as plt\n",
        "import matplotlib.patches as mpatches\n",
        "import matplotlib.lines as mlines\n",
        "import numpy as np \n",
        "import json\n",
        "import math\n",
        "import cartopy\n",
        "import cartopy.crs as ccrs # import projections\n",
        "import cartopy.feature as cf # import features\n",
        "from pykrige.uk import UniversalKriging\n",
        "import pylab # using as a plotting library for spatial data, make contours\n",
        "from metpy.plots import USCOUNTIES\n",
        "\n",
        "#And get the most expensive machine - in case the Administrator comes.\n",
        "# the following code authorizes you to access files on Google Drive\n",
        "from google.colab import drive, files, auth\n",
        "from pydrive.auth import GoogleAuth\n",
        "from pydrive.drive import GoogleDrive\n",
        "from oauth2client.client import GoogleCredentials\n"
      ],
      "execution_count": 4,
      "outputs": [
        {
          "output_type": "stream",
          "text": [
            "flopy is installed in /usr/local/lib/python3.6/dist-packages/flopy\n"
          ],
          "name": "stdout"
        }
      ]
    },
    {
      "cell_type": "markdown",
      "metadata": {
        "id": "MRFZ3O-TurE2",
        "colab_type": "text"
      },
      "source": [
        "## 1C. Authenticate with Google\n",
        "This will allow you to access shared files on my Google Drive or your own. "
      ]
    },
    {
      "cell_type": "code",
      "metadata": {
        "colab_type": "code",
        "id": "hstJX5XhPT9r",
        "colab": {}
      },
      "source": [
        "auth.authenticate_user()\n",
        "gauth = GoogleAuth()\n",
        "gauth.credentials = GoogleCredentials.get_application_default()\n",
        "drive = GoogleDrive(gauth)"
      ],
      "execution_count": 0,
      "outputs": []
    },
    {
      "cell_type": "markdown",
      "metadata": {
        "id": "WoUf-0HKvAUm",
        "colab_type": "text"
      },
      "source": [
        "## 1D. Read the MODFLOW executable from Google Drive\n",
        "\n",
        "Here you are going to download the MODFLOW executable from Daniel's Google Drive. This will show up in your temporary working directory for use later in the code. <b>We need to confirm whether this will work in CoLab, or if you need to compile a new version of MODFLOW each time.</b>\n",
        "\n",
        "Note that this makes use of a key on your Google Drive sharable link for the file. This generally takes the form of: https://drive.google.com/file/d/**key**/view?usp=sharing, in this case, key = 1SwqsSCvyrnrCiopeEp52LBcZYNcgBT9V"
      ]
    },
    {
      "cell_type": "code",
      "metadata": {
        "colab_type": "code",
        "id": "NITzYdM_PgFM",
        "colab": {}
      },
      "source": [
        "downloaded = drive.CreateFile({'id':\"1SwqsSCvyrnrCiopeEp52LBcZYNcgBT9V\"}) # This is the key that is defined in the shareable link of a file on Google Drive\n",
        "downloaded.GetContentFile('mf2005') # get the content from Google Drive and name it (let's stick with mf2005 here)\n",
        "\n",
        "#downloaded = drive.CreateFile({'id':\"1iThxRoGVhofLPd8HOF7Vn0awRVrXZcVb\"}) # This is the key that is defined in the shareable link of a file on Google Drive\n",
        "#downloaded.GetContentFile('mfnwt') # get the content from Google Drive and name it (let's stick with mf2005 here)"
      ],
      "execution_count": 0,
      "outputs": []
    },
    {
      "cell_type": "markdown",
      "metadata": {
        "id": "r-owARmIvCoH",
        "colab_type": "text"
      },
      "source": [
        "Now we need to copy the executable into a location where we can later run it. Note that the \"!\" nomenclature is a shell command, beyond the scope of this course to learn that!"
      ]
    },
    {
      "cell_type": "code",
      "metadata": {
        "colab_type": "code",
        "id": "9WK5wZAzjdna",
        "colab": {}
      },
      "source": [
        "!cp mf2005 /usr/local/bin\n",
        "!chmod 755 /usr/local/bin/mf2005\n",
        "\n",
        "#!cp mfnwt /usr/local/bin\n",
        "#!chmod 755 /usr/local/bin/mfnwt"
      ],
      "execution_count": 0,
      "outputs": []
    },
    {
      "cell_type": "markdown",
      "metadata": {
        "id": "oywHJyvfxXAq",
        "colab_type": "text"
      },
      "source": [
        "# 2 Import the big stuff\n"
      ]
    },
    {
      "cell_type": "markdown",
      "metadata": {
        "id": "bd7Rk7IlD3Ra",
        "colab_type": "text"
      },
      "source": [
        "We don't want to repeatedly import large files for fear of Google revoking our CoLab privileges for a few hours. Once or twice isn't a big deal, but repeatedly might be an issue. Let Daniel know if this happens- there are ways to reduce our file sizes. \n",
        "\n",
        "For now, the \"big stuff\" includes a DEM of Illinois and the river excel file we worked with last time. "
      ]
    },
    {
      "cell_type": "markdown",
      "metadata": {
        "id": "7W_2AeFMx4Ai",
        "colab_type": "text"
      },
      "source": [
        "## 2A. Import the DEM"
      ]
    },
    {
      "cell_type": "code",
      "metadata": {
        "colab_type": "code",
        "id": "3ygMVkWFAcWv",
        "colab": {}
      },
      "source": [
        "# first import the land surface .tif from Google Drive\n",
        "downloaded = drive.CreateFile({'id':\"1389l8sgQ8-tsmIZuZosaqvbqpHY40n6l\"}) # ft above msl, works best for most groups, spiky in Mason County \n",
        "downloaded.GetContentFile('landsurface_el.tif')\n",
        "\n",
        "# first import the bedrock elevation .tif from Google Drive\n",
        "downloaded = drive.CreateFile({'id':\"1EZgZDjjILzvRzvY9nf0Qp0NHmspRq4kP\"})   \n",
        "downloaded.GetContentFile('bedrock_el.tif')\n",
        "\n",
        "# read in percent thickness of coarse grain for each model layer\n",
        "downloaded = drive.CreateFile({'id':\"18Kw3O6qCzIJ2L6KrVnRPIhea_F8VwyWn\"})   \n",
        "downloaded.GetContentFile('percentl1.tif')\n",
        "\n",
        "downloaded = drive.CreateFile({'id':\"1oZinFPKrGY-FXoE7Zu0okFpAAOe_bwau\"})   \n",
        "downloaded.GetContentFile('percentl2.tif')\n",
        "\n",
        "downloaded = drive.CreateFile({'id':\"1FqVEr4m_ElUyEZeyfnCMwVGDfUqavJZH\"})   \n",
        "downloaded.GetContentFile('percentl3.tif')\n",
        "\n",
        "downloaded = drive.CreateFile({'id':\"1KiHS9TLSP1GAVTjaaJZS4BAwF6gnUeDu\"})   \n",
        "downloaded.GetContentFile('percentl4.tif')\n",
        "\n",
        "downloaded = drive.CreateFile({'id':\"1Z-9EyaAK1NKnRHAlnyGYkI3suvBFC2I6\"})   \n",
        "downloaded.GetContentFile('percentl5.tif')\n",
        "\n",
        "downloaded = drive.CreateFile({'id':\"1pcB9aJpJGfkXOKz10rhs6MpWkQL1_dqr\"})   \n",
        "downloaded.GetContentFile('percentl6.tif')\n",
        "\n",
        "downloaded = drive.CreateFile({'id':\"1Fnh0HIKbUj7pEtlsUKR_Sr7WwfYzWul5\"})   \n",
        "downloaded.GetContentFile('percentl7.tif')\n",
        "\n",
        "downloaded = drive.CreateFile({'id':\"106JacgpwSA3wVAGcBIzGdc8rDVUB6dh7\"})   \n",
        "downloaded.GetContentFile('percentl8.tif')\n",
        "\n",
        "downloaded = drive.CreateFile({'id':\"1WJjhVJ_KSBhZDrgzY3YteNjxaz5nxBid\"})   \n",
        "downloaded.GetContentFile('percentl9.tif')"
      ],
      "execution_count": 0,
      "outputs": []
    },
    {
      "cell_type": "markdown",
      "metadata": {
        "id": "oqxp3yqCydpY",
        "colab_type": "text"
      },
      "source": [
        "## 2B. Import the river file"
      ]
    },
    {
      "cell_type": "code",
      "metadata": {
        "id": "3VqaFoQiu7tP",
        "colab_type": "code",
        "colab": {}
      },
      "source": [
        "# first import the Excel file from Google Drive\n",
        "downloaded = drive.CreateFile({'id':\"1JsAiGG4RvcfYrQtfgXRW9ZVfAkQ1yRVu\"})\n",
        "downloaded.GetContentFile('rivers_625.csv')"
      ],
      "execution_count": 0,
      "outputs": []
    },
    {
      "cell_type": "markdown",
      "metadata": {
        "id": "OROiooZxzUuH",
        "colab_type": "text"
      },
      "source": [
        "# 3 Create MODFLOW  packages"
      ]
    },
    {
      "cell_type": "markdown",
      "metadata": {
        "id": "F-uLI2Rf0PIw",
        "colab_type": "text"
      },
      "source": [
        "## 3A. Model Set-up"
      ]
    },
    {
      "cell_type": "markdown",
      "metadata": {
        "id": "FnPkGXMG0qdv",
        "colab_type": "text"
      },
      "source": [
        "### 3Ai. Define the Model Domain"
      ]
    },
    {
      "cell_type": "code",
      "metadata": {
        "colab_type": "code",
        "id": "xKgi6FiwSwY0",
        "outputId": "329d48a0-6033-43ea-c26b-2e5385137735",
        "colab": {
          "base_uri": "https://localhost:8080/",
          "height": 52
        }
      },
      "source": [
        "#----------------------------------------------------------------------------\n",
        "'''GRL'''\n",
        "sw_lat =  41.2 #southwest latitude\n",
        "sw_long = -90.5 #southwest longitude\n",
        "ne_lat =  41.9 #northeast latitude\n",
        "ne_long = -89.2 #northeast longitude\n",
        "\n",
        "illimap = {'proj': 'lcc', # Lambert Conformal Conic\n",
        "     'ellps': 'clrk66',\n",
        "     'lon_0': -89.5,\n",
        "     'lat_0': 33,\n",
        "     'lat_1': 33,\n",
        "     'lat_2': 45,\n",
        "     'x_0': 2999994*0.3048,\n",
        "     'y_0': 0}\n",
        "\n",
        "prj = pyproj.Proj(illimap)\n",
        "\n",
        "wgs84 = pyproj.Proj(\"epsg:4326\")\n",
        "\n",
        "nex, ney = pyproj.transform(wgs84,illimap,ne_lat,ne_long)\n",
        "swx, swy = pyproj.transform(wgs84,illimap,sw_lat,sw_long)\n",
        "\n",
        "nex, ney = round(nex/0.3048,-4), round(ney/0.3048,-4)\n",
        "swx, swy = round(swx/0.3048,-4), round(swy/0.3048,-4)"
      ],
      "execution_count": 10,
      "outputs": [
        {
          "output_type": "stream",
          "text": [
            "/usr/local/lib/python3.6/dist-packages/ipykernel_launcher.py:21: DeprecationWarning: This function is deprecated. See: https://pyproj4.github.io/pyproj/stable/gotchas.html#upgrading-to-pyproj-2-from-pyproj-1\n",
            "/usr/local/lib/python3.6/dist-packages/ipykernel_launcher.py:22: DeprecationWarning: This function is deprecated. See: https://pyproj4.github.io/pyproj/stable/gotchas.html#upgrading-to-pyproj-2-from-pyproj-1\n"
          ],
          "name": "stderr"
        }
      ]
    },
    {
      "cell_type": "markdown",
      "metadata": {
        "id": "CpselZ1G2hoC",
        "colab_type": "text"
      },
      "source": [
        "### 3Aii. Define spatial and temporal discretization"
      ]
    },
    {
      "cell_type": "code",
      "metadata": {
        "colab_type": "code",
        "id": "JZPmYy-DkqGy",
        "colab": {}
      },
      "source": [
        "# Assign Discretization variables\n",
        "Lx = nex-swx # Width of the model domain\n",
        "Ly = ney-swy # Height of the model domain\n",
        "nlay = 10 # Number of model layers\n",
        "dx = 2000 \n",
        "dy = 2000\n",
        "nrow = int(Ly/dy) # Number of rows\n",
        "ncol = int(Lx/dx) # Number of columns\n",
        "\n",
        "nper = 1 #specify number of stress periods\n",
        "steady = [True] #specify if stress period is transient or steady-state\n",
        "\n"
      ],
      "execution_count": 0,
      "outputs": []
    },
    {
      "cell_type": "markdown",
      "metadata": {
        "id": "GoUbGJMb0e2Q",
        "colab_type": "text"
      },
      "source": [
        "### 3Aiii. Define river elevations\n",
        "\n"
      ]
    },
    {
      "cell_type": "code",
      "metadata": {
        "id": "xCZvnOQm05ww",
        "colab_type": "code",
        "colab": {}
      },
      "source": [
        "# import stage, lambert x, lambert y\n",
        "dfriv = pd.read_csv('rivers_625.csv')\n",
        "\n",
        "# trim dataframe with river information to the model domain\n",
        "dfriv = dfriv.loc[dfriv['lamx']<nex]\n",
        "dfriv = dfriv.loc[dfriv['lamy']<ney]\n",
        "dfriv = dfriv.loc[dfriv['lamx']>swx]\n",
        "dfriv = dfriv.loc[dfriv['lamy']>swy]\n",
        "\n",
        "# assign all rivers to the upper layer\n",
        "dfriv['lay'] = 0\n",
        "# convert lamx to column and lamy to row\n",
        "dfriv['row'] = np.trunc((ney-dfriv['lamy'])/dy)\n",
        "dfriv['col'] = np.trunc((dfriv['lamx']-swx)/dx)\n",
        "# define the river stage\n",
        "dfriv['stage'] = dfriv['rvr_stg']\n",
        "#define the conductance\n",
        "dfriv['cond'] = 5000. # ft^2/d\n",
        "# define the river bottom\n",
        "dfriv['bot'] = dfriv['stage']-3\n",
        "# drop unneeded files\n",
        "dfriv = dfriv.drop(['STR_ORD_MI','STR_ORD_MA','SUM_LENGTH','rvr_stg','lamx','lamy'],axis=1)\n",
        "\n",
        "dfriv = dfriv.groupby(['lay','row','col'],as_index=False).mean()"
      ],
      "execution_count": 0,
      "outputs": []
    },
    {
      "cell_type": "markdown",
      "metadata": {
        "id": "lMLXmXKF838v",
        "colab_type": "text"
      },
      "source": [
        "### 3Aiv. Define top and bottom elevations"
      ]
    },
    {
      "cell_type": "code",
      "metadata": {
        "id": "0sv1P7Bg8-RF",
        "colab_type": "code",
        "colab": {}
      },
      "source": [
        "# Now load the raster using FloPy's built in Raster toolbox\n",
        "illinoisdem = Raster.load(\"landsurface_el.tif\")\n",
        "bedrock = Raster.load(\"bedrock_el.tif\")\n",
        "\n",
        "# Crop the dEM to the model domain\n",
        "illinoisdem.crop([(swx,swy),(swx,ney),(nex,ney),(nex,swy)])\n",
        "bedrock.crop([(swx,swy),(swx,ney),(nex,ney),(nex,swy)])\n",
        "# Define centroid of the southwestern most cell\n",
        "startx = swx+dx/2 \n",
        "starty = swy+dx/2\n",
        "# Calculate the x and y coordinates for the centroid of each cell \n",
        "xc = np.arange(swx+dx/2,nex+dx/2,dx) \n",
        "yc = np.arange(swy+dy/2,ney+dy/2,dy)\n",
        "# Create a grid of the x coordinate of each centroid and the y coordinate\n",
        "xarr, yarr = np.meshgrid(xc,yc)\n",
        "# resample the topo raster to the grid of centroids of the model\n",
        "topgrid = illinoisdem.resample_to_grid(xarr,yarr,1,method='nearest') \n",
        "bedrock = bedrock.resample_to_grid(xarr,yarr,1,method='nearest')\n",
        "\n",
        "# We just built our top elevation upside down, let's flip it\n",
        "topgrid = np.flipud(topgrid) \n",
        "bedrockgrid = np.flipud(bedrock)   \n",
        "\n",
        "# the grid does not extend past the boundaries of Illinois\n",
        "# the following code is for groups working in the western part of the state\n",
        "maxrow = topgrid.shape[0]\n",
        "maxcol = topgrid.shape[1]\n",
        "\n",
        "# Create ibound as array of ints (1), indicating all cells are active\n",
        "# inactivate cells west of the Mississippi River that were originally not present\n",
        "# note that because inactive cells would overlap with the river boundaries, this code pushes inactive cells to the west a bit. Adjust per your model domain\n",
        "ibound = np.ones((nlay, nrow, ncol), dtype=np.int32)\n",
        "\n",
        "for row in np.arange(maxrow,0,-1):\n",
        "  counter = 0\n",
        "  for col in np.arange(maxcol,0,-1):\n",
        "    if topgrid[row-1,col-1] <= 0:\n",
        "      counter = counter+1\n",
        "      topgrid[row-1,col-1] = topgrid[row-1,col]\n",
        "      bedrockgrid[row-1,col-1] = bedrockgrid[row-1,col]\n",
        "      if counter>=4:\n",
        "        ibound[:,row-1,col-1] = 0\n",
        "\n",
        "\n",
        "\n",
        "\n",
        "# Set the top of Layer 1 = River Elevation\n",
        "for index, row in dfriv.iterrows():  \n",
        "    topgrid[int(row['row']),int(row['col'])]=row['stage'] \n",
        "    #print(topgrid[int(row['row']),int(row['col'])],row['bot'])  \n",
        "\n",
        "# make sure that all layers are at least 9 ft thick\n",
        "diff = topgrid-bedrockgrid\n",
        "\n",
        "diff[diff<=9.0] = 9.0\n",
        "\n",
        "# each layer is the same thickness, we need 9 glacial layers\n",
        "laythick = diff/9\n",
        "\n",
        "#calculate bottom of each layer\n",
        "lay1bot = topgrid-laythick\n",
        "lay2bot = topgrid-2*laythick\n",
        "lay3bot = topgrid-3*laythick\n",
        "lay4bot = topgrid-4*laythick\n",
        "lay5bot = topgrid-5*laythick\n",
        "lay6bot = topgrid-6*laythick\n",
        "lay7bot = topgrid-7*laythick\n",
        "lay8bot = topgrid-8*laythick\n",
        "lay9bot = topgrid-9*laythick\n",
        "lay10bot = lay9bot-50.\n",
        "\n",
        "botgrids = [lay1bot,lay2bot,lay3bot,lay4bot,lay5bot,lay6bot,lay7bot,lay8bot,lay9bot,lay10bot]"
      ],
      "execution_count": 0,
      "outputs": []
    },
    {
      "cell_type": "markdown",
      "metadata": {
        "id": "qDDlICg0Jqiv",
        "colab_type": "text"
      },
      "source": [
        "### 3Av. Assign hydraulic conductivity"
      ]
    },
    {
      "cell_type": "code",
      "metadata": {
        "id": "f2PuBykRIb7j",
        "colab_type": "code",
        "colab": {}
      },
      "source": [
        "# assign hydraulic conductivity in ft/day\n",
        "kc = 240 # predominantly coarse\n",
        "kf = .0013 # predominantly fine\n",
        "kb = 20 # bedrock\n",
        "\n",
        "# determine how to assign hydraulic conductivity\n",
        "threshold = 52 # anything above this will be assigned kc and below kf\n",
        "\n",
        "def kloader(rastername, kc, kf, threshold):\n",
        "  percent = Raster.load(rastername) # load raster\n",
        "  percent.crop([(swx,swy),(swx,ney),(nex,ney),(nex,swy)]) # crop array\n",
        "  percentgrid = percent.resample_to_grid(xarr,yarr,1,method='nearest') # resample to model grid\n",
        "  percentgrid = np.flipud(percentgrid) # flip the grid\n",
        "  maxrow = percentgrid.shape[0]\n",
        "  maxcol = percentgrid.shape[1]\n",
        "  for row in np.arange(maxrow,0,-1):\n",
        "    for col in np.arange(maxcol,0,-1):\n",
        "      if percentgrid[row-1,col-1] < -10:\n",
        "        percentgrid[row-1,col-1] = percentgrid[row-1,col]\n",
        "  percentgrid[percentgrid>=threshold] = kc # assign coarse k value\n",
        "  percentgrid[percentgrid<threshold] = kf # assign fine k value\n",
        "  return percentgrid\n",
        "\n",
        "kl1 = kloader('percentl1.tif',kc,kf,threshold)\n",
        "kl2 = kloader('percentl2.tif',kc,kf,threshold)\n",
        "kl3 = kloader('percentl3.tif',kc,kf,threshold)\n",
        "kl4 = kloader('percentl4.tif',kc,kf,threshold)\n",
        "kl5 = kloader('percentl5.tif',kc,kf,threshold)\n",
        "kl6 = kloader('percentl6.tif',kc,kf,threshold)\n",
        "kl7 = kloader('percentl7.tif',kc,kf,threshold)\n",
        "kl8 = kloader('percentl8.tif',kc,kf,threshold)\n",
        "kl9 = kloader('percentl9.tif',kc,kf,threshold)\n",
        "kl10 = kl9-kl9+kb\n",
        "\n",
        "khlayers = [kl1,kl2,kl3,kl4,kl5,kl6,kl7,kl8,kl9,kl10]\n",
        "kvlayers=np.divide(khlayers,10.)"
      ],
      "execution_count": 0,
      "outputs": []
    },
    {
      "cell_type": "code",
      "metadata": {
        "id": "U6hQGwMpAntO",
        "colab_type": "code",
        "colab": {}
      },
      "source": [
        "# Creating calculations for Transmissivity - ft^2/day (same as that which was derived by Anthony as part of milestone 1)\n",
        "\n",
        "# because we know that each model layer is the same thickness [ft] and K [ft/day] is calculated above: \n",
        "\n",
        "tl1 = (kl1*laythick)\n",
        "tl2 = (kl2*laythick)\n",
        "tl3 = (kl3*laythick)\n",
        "tl4 = (kl4*laythick)\n",
        "tl5 = (kl5*laythick)\n",
        "tl6 = (kl6*laythick)\n",
        "tl7 = (kl7*laythick)\n",
        "tl8 = (kl8*laythick)\n",
        "tl9 = (kl9*laythick)\n",
        "tl10 = (kl10*laythick)\n",
        "\n",
        "\n",
        "Total = tl1+tl2+tl3+tl4+tl5+tl6+tl7+tl8+tl9+tl10\n",
        "\n",
        "Tmax = np.max(Total)\n",
        "Tmin = np.min(Total)\n"
      ],
      "execution_count": 0,
      "outputs": []
    },
    {
      "cell_type": "markdown",
      "metadata": {
        "id": "QoCKtXB3zoLH",
        "colab_type": "text"
      },
      "source": [
        "## 3B. Create the MODFLOW model object "
      ]
    },
    {
      "cell_type": "code",
      "metadata": {
        "colab_type": "code",
        "id": "-v2Uc_JWSsu1",
        "colab": {}
      },
      "source": [
        "# Create a MODFLOW model object and run with MODFLOW 2005.\n",
        "modelname = \"my_model\" # name the model\n",
        "m = flopy.modflow.Modflow(modelname, version = 'mf2005', exe_name = 'mf2005') # create model object m"
      ],
      "execution_count": 0,
      "outputs": []
    },
    {
      "cell_type": "markdown",
      "metadata": {
        "id": "mNkGlXTw0Y8_",
        "colab_type": "text"
      },
      "source": [
        "## 3C. Append the discretization package to the model object"
      ]
    },
    {
      "cell_type": "code",
      "metadata": {
        "colab_type": "code",
        "id": "_MSCNyTkknUU",
        "colab": {}
      },
      "source": [
        "# length and time are feet (1) and days (4).\n",
        "# See https://water.usgs.gov/ogw/modflow/MODFLOW-2005-Guide/index.html?dis.htm \n",
        "dis = flopy.modflow.ModflowDis(model=m, nlay=nlay, nrow=nrow, ncol=ncol, \n",
        "                               delr=dx, delc=dy, top=topgrid, botm=botgrids, \n",
        "                               itmuni = 4, lenuni = 1, \n",
        "                               nper=nper, steady=steady)"
      ],
      "execution_count": 0,
      "outputs": []
    },
    {
      "cell_type": "markdown",
      "metadata": {
        "id": "ohZcMcra23lN",
        "colab_type": "text"
      },
      "source": [
        "## 3D. Basic Package"
      ]
    },
    {
      "cell_type": "code",
      "metadata": {
        "colab_type": "code",
        "id": "US3C3_-XS0gk",
        "colab": {}
      },
      "source": [
        "# Create ibound as array of ints (1), indicating all cells are active\n",
        "#ibound = np.ones((nlay, nrow, ncol), dtype=np.int32)\n",
        "\n",
        "#Create flopy bas object\n",
        "bas = flopy.modflow.ModflowBas(m, ibound=ibound, strt=topgrid)\n"
      ],
      "execution_count": 0,
      "outputs": []
    },
    {
      "cell_type": "markdown",
      "metadata": {
        "id": "5PSnNO_x3RUj",
        "colab_type": "text"
      },
      "source": [
        "## 3E. LPF Package"
      ]
    },
    {
      "cell_type": "code",
      "metadata": {
        "colab_type": "code",
        "id": "sMP89XUkS4lL",
        "colab": {}
      },
      "source": [
        "#define layer type as convertible (1), must be an integer\n",
        "#for more information, see https://water.usgs.gov/ogw/modflow/MODFLOW-2005-Guide/index.html?dis.htm\n",
        "laytyp = 0*np.ones((nlay,), dtype=np.int32)\n",
        "\n",
        "# create the LPF object\n",
        "lpf = flopy.modflow.ModflowLpf(model=m, hk=khlayers, vka=kvlayers, laytyp=laytyp, ipakcb=1)\n"
      ],
      "execution_count": 0,
      "outputs": []
    },
    {
      "cell_type": "markdown",
      "metadata": {
        "id": "blNu8BSC3VgJ",
        "colab_type": "text"
      },
      "source": [
        "## 3F. Boundary Conditions"
      ]
    },
    {
      "cell_type": "markdown",
      "metadata": {
        "id": "P4Y1btf03ivQ",
        "colab_type": "text"
      },
      "source": [
        "### 3Fi. Recharge Package"
      ]
    },
    {
      "cell_type": "code",
      "metadata": {
        "colab_type": "code",
        "id": "gDZ98E8NS8UG",
        "colab": {}
      },
      "source": [
        "# It might be worthwhile to use the average recharge rate for the summer and a modified, higher recharge rate for non-summer.\n",
        "# According to Burch, observed recharge is greatest following the end of the growing season, presumably in the fall, since precipitation available for recharge is limited to just after the growing season\" (Burch, 2004).\n",
        "\n",
        "# Average recharge = 333,000 gpd/sq mi = 0.001597 ft/d (Burch, 2004)\n",
        "# For higher recharge rate, one option is to look at the water table fluctuation method and take the maximum recharge rate\n",
        "\n",
        "# Recharge for cells where low-k material is at the surface is guessed to be an order of magnitude less than the recharge rate for cells with high-k material at the surface.\n",
        "# The plan is to tinker with this assumption when we calibrate the model.\n",
        "\n",
        "rch_avg=0.001597 # high recharge rate, in ft/d\n",
        "\n",
        "# rch_low=rch_avg/10 # low recharge rate, in ft/d\n",
        "# The model did not converge with this initial guess for the recharge rate for cells with low-k material at land surface\n",
        "\n",
        "rch_low=rch_avg/2 # low recharge rate, in ft/d\n",
        "# The model converged with this recharge rate, but I'm concerned it may be inaccurate\n",
        "\n",
        "# Low-k material is at the surface in any cells where k=kf for layer #1 (kl1 = kf)\n",
        "# High-k material is at the surface in any cells where k=kc for layer #1 (kl1 = kc)\n",
        "\n",
        "# For cells where kl1 = kf, recharge is rch_low.\n",
        "# For cells where kl1 = kc, recharge is rch_avg.\n",
        "recharge=np.where(kl1<=kf,rch_low,rch_avg) # This line of code was made possible by the Will County group, and viewers like you!\n",
        "\n",
        "# Assign recharge to the model\n",
        "rch = flopy.modflow.mfrch.ModflowRch(model=m,nrchop=3,rech = recharge) # recharge rate is in ft/day"
      ],
      "execution_count": 0,
      "outputs": []
    },
    {
      "cell_type": "markdown",
      "metadata": {
        "id": "-otcrtqA3ZTZ",
        "colab_type": "text"
      },
      "source": [
        "### 3Fii. River Package"
      ]
    },
    {
      "cell_type": "code",
      "metadata": {
        "colab_type": "code",
        "id": "pwTDkxudTGmP",
        "colab": {}
      },
      "source": [
        "# put into a format that MODFLOW wants\n",
        "arriv = dfriv.values\n",
        "riverdata = {0: arriv}\n",
        "\n",
        "# create river package\n",
        "riv = flopy.modflow.mfriv.ModflowRiv(model=m,ipakcb=None,stress_period_data=riverdata)"
      ],
      "execution_count": 0,
      "outputs": []
    },
    {
      "cell_type": "markdown",
      "metadata": {
        "id": "197weMSqBiEu",
        "colab_type": "text"
      },
      "source": [
        "### 3Fiii. Drain Package\n"
      ]
    },
    {
      "cell_type": "code",
      "metadata": {
        "id": "R72J1xcUBgw4",
        "colab_type": "code",
        "colab": {}
      },
      "source": [
        "# Drain Package (DRN)\n",
        "# Used to simulate head-dependent flux boundaries.  If the head in a cell falls below a certain threshold, the flux from the drain cell to the model cell drops to zero.\n",
        "\n",
        "# Create an empty list as a starting point for our drain data\n",
        "# Here, \"ardrn\" will function similarly to \"arriv\" in the previous code block\n",
        "ardrn=[]\n",
        "\n",
        "# \"For\" loop to search through the kl1 array and assign a drain conductance to cells where low-k material is at the surface\n",
        "# Low-k material is at the surface in any cells where k=kf for the top layer (kl1=kf)\n",
        "for row in range(m.nrow):\n",
        "  for col in range(m.ncol):\n",
        "    if round(float(kl1[row][col]),5)==kf: # This \"if\" statement covers cells where low-k material is present at land surface\n",
        "      #C=kf*100*dx*dy/3 # C is the conductance between land surface and the drain, in ft^2/day.\n",
        "          \n",
        "      C=kf*10*dx*dy/3 # Tried reducing the conductance for the drain cells, to see if MODFLOW terminates normally.\n",
        "      # This worked, but I'm concerned the conductance is inaccurate.\n",
        "      \n",
        "      # For more information regarding the equation for conductance, see the \"notes on the conductance of drain cells\" comment below.\n",
        "      \n",
        "      # Append the drain array \"ardrn\" with a list corresponding to each cell to be added to the drain package\n",
        "      # Items in the drain array are lists with the format [Layer, Row, Column, Elevation, Conductance]\n",
        "      ardrn.append([0, row, col, topgrid[row][col], C])\n",
        "\n",
        "# Notes on the conductance of drain cells\n",
        "# C=K*dx*dy/delta ; C=K*dx*dy/b\n",
        "# K is the conductivity of the soil layer\n",
        "# delta or b is the thickness of the soil layer\n",
        "# Out of a handful of randomly selected well logs, the uppermost soil layer (where present) reached a depth anywhere from 1 to 5 feet.\n",
        "# For simplicity, the soil layer is assumed to have a thickness of 3 feet, uniform throughout the model.\n",
        "\n",
        "# From the FloPy documentation:\n",
        "# flopy.modflow.mfdrn.ModflowDrn(model, ipakcb=None, stress_period_data=None, dtype=None, extension='drn', unitnumber=None, options=None, filenames=None, **kwargs)"
      ],
      "execution_count": 0,
      "outputs": []
    },
    {
      "cell_type": "code",
      "metadata": {
        "id": "7XnmxBzaLPEw",
        "colab_type": "code",
        "colab": {}
      },
      "source": [
        "# Drain Return Package (DRT)\n",
        "# Allows simulation of drains in which some of the water from the drain is used to recharge the aquifer\n",
        "\n",
        "# remove the drn package\n",
        "#m.remove_package('DRN')\n",
        "\n",
        "# create the drt package\n",
        "#spd=[]\n",
        "#for i in range(m.nrow):\n",
        "    #spd.append([0, i, m.ncol-1, 5.0, 50.0, 1, 1, 1, 1.0])\n",
        "#d = flopy.modflow.ModflowDrt(m, stress_period_data={0:spd})"
      ],
      "execution_count": 0,
      "outputs": []
    },
    {
      "cell_type": "code",
      "metadata": {
        "id": "WESy-CY_EPP2",
        "colab_type": "code",
        "outputId": "c14bc89f-5b38-489e-8e52-750569f2e1ee",
        "colab": {
          "base_uri": "https://localhost:8080/",
          "height": 70
        }
      },
      "source": [
        "# BEWARE: This cell alone takes about 3.5 minutes to run\n",
        "\n",
        "# This cell ensures that no river cells are included in the drain package\n",
        "# If any river cells were added to the drain array, this code block will remove them\n",
        "\n",
        "ardrn_initial=len(ardrn)\n",
        "\n",
        "# Print the initial length of the drain array\n",
        "print('The initial length of the drain array is',ardrn_initial)\n",
        "\n",
        "for i in range(len(dfriv)-1):\n",
        "  for j in range(len(ardrn)-1):\n",
        "    if dfriv.loc[i,'row']==np.float64(ardrn[j][1]) and dfriv.loc[i,'col']==np.float64(ardrn[j][2]):\n",
        "      ardrn.remove(ardrn[j])\n",
        "\n",
        "ardrn_final=len(ardrn)\n",
        "\n",
        "# Print the final length of the drain array\n",
        "# The drain array should be 1500-2000 cells shorter than it was before\n",
        "print('The final length of the drain array is',ardrn_final)\n",
        "print(ardrn_initial-ardrn_final,'items were removed')"
      ],
      "execution_count": 23,
      "outputs": [
        {
          "output_type": "stream",
          "text": [
            "The initial length of the drain array is 17230\n",
            "The final length of the drain array is 14830\n",
            "2400 items were removed\n"
          ],
          "name": "stdout"
        }
      ]
    },
    {
      "cell_type": "code",
      "metadata": {
        "id": "qjX-o-4TEKS1",
        "colab_type": "code",
        "colab": {}
      },
      "source": [
        "# Put the drain data into a format that MODFLOW wants\n",
        "draindata={0:ardrn} #Here, \"draindata\" functions similarly to \"riverdata\" in the previous code block\n",
        "\n",
        "# Create the drn package\n",
        "drn = flopy.modflow.mfdrn.ModflowDrn(m, ipakcb=None, stress_period_data=draindata)"
      ],
      "execution_count": 0,
      "outputs": []
    },
    {
      "cell_type": "markdown",
      "metadata": {
        "id": "v9AdhTraFBNW",
        "colab_type": "text"
      },
      "source": [
        "##3Fiv. Well Package"
      ]
    },
    {
      "cell_type": "code",
      "metadata": {
        "id": "vWiKWm8vRtkE",
        "colab_type": "code",
        "colab": {}
      },
      "source": [
        "#just some functions for processing json into model coordinates\n",
        "#nothing to see here... move along\n",
        "\n",
        "#there are a bunch of deprecation warnings thrown during the pumpage mapping \n",
        "#I will address them eventually... for now I'm just filtering them out\n",
        "import warnings\n",
        "warnings.filterwarnings(\"ignore\", category=DeprecationWarning) \n",
        "\n",
        "def determine_layer(dtw, row, column, botgrids=botgrids, topgrid=topgrid):\n",
        "  depth = topgrid[int(row), int(column)] - dtw\n",
        "  if depth < botgrids[-1][int(row), int(column)]: return False\n",
        "  for i, elem in enumerate(botgrids):\n",
        "    nextelem = botgrids[(i + 1) % len(botgrids)][int(row), int(column)]\n",
        "    if depth < elem[int(row), int(column)] and depth > nextelem:  return i\n",
        "\n",
        "def convert_raw(well, maxrow=maxrow, maxcol=maxcol, ney=ney, swx=swx):\n",
        "  row, column = np.trunc((ney-well[1])/dy), np.trunc((well[2]-swx)/dx)\n",
        "  row -= 1\n",
        "  column -= 1\n",
        "  if row>=maxrow or row<0 or column>=maxcol or column<0:  return[False * 4]\n",
        "  elif well[0] == -999:  return [6, int(row), int(column), well[3]]\n",
        "  else: return [determine_layer(well[0], row, column), int(row), int(column), well[3]]\n",
        "\n",
        "def convert_to_LatLong(row, illimap = illimap, latlong = wgs84):\n",
        "  long, lat = pyproj.transform(illimap,latlong,row[2]/3.281, row[1]/3.281)\n",
        "  return [row[0], lat, long, row[3]]"
      ],
      "execution_count": 0,
      "outputs": []
    },
    {
      "cell_type": "code",
      "metadata": {
        "id": "Z189akc1QxTz",
        "colab_type": "code",
        "outputId": "fb37235e-fc95-48fb-a7b5-74c73e444b8d",
        "colab": {
          "resources": {
            "http://localhost:8080/nbextensions/google.colab/files.js": {
              "data": "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",
              "ok": true,
              "headers": [
                [
                  "content-type",
                  "application/javascript"
                ]
              ],
              "status": 200,
              "status_text": ""
            }
          },
          "base_uri": "https://localhost:8080/",
          "height": 146
        }
      },
      "source": [
        "#!upload the processPumpData_SUMMER.json OR processPumpData_SPRING.json file from the ./pumping directory\n",
        "#make sure you've created them by running processPumpData.py\n",
        "\n",
        "#ensure the file you don't want to use is commented out\n",
        "#future iterations of this model will utilize multiple stress periods, and will not require file switching\n",
        "#to calibrate spring and summer pumpage, but client deadlines do not permit such major code refactoring\n",
        "#at this time...\n",
        "\n",
        "#file_name = 'processPumpData_SUMMER.json'\n",
        "file_name = 'processPumpData_SPRING.json'\n",
        "\n",
        "uploaded = files.upload() #Ah, I see you have the machine that goes 'ping!'.\n",
        "\n",
        "#if you get an error when running this cell for the first time\n",
        "#try rerunning this cell again\n",
        "\n",
        "lrcq = json.loads(uploaded[file_name].decode(\"utf-8\")) \n",
        "#This is my favourite. You see, we lease this back from the company we sold it to - \n",
        "#that way it comes under the monthly current budget and not the capital account.\n",
        "\n",
        "lrcq = {int(k):v for k,v in lrcq.items()}\n",
        "plot_points_df = pd.DataFrame(lrcq)\n",
        "\n",
        "lrcq.update({0:[convert_raw(x) for x in lrcq[0] if convert_raw(x)[0]]})\n",
        "\n",
        "wel = flopy.modflow.ModflowWel(model = m, stress_period_data=lrcq)\n",
        "\n",
        "del uploaded\n",
        "print(\"!WELLS SUCCESSFULLY ADDED TO MODEL!\")"
      ],
      "execution_count": 41,
      "outputs": [
        {
          "output_type": "display_data",
          "data": {
            "text/html": [
              "\n",
              "     <input type=\"file\" id=\"files-91a7b9e7-54fb-447c-8839-7187d3cdcf6e\" name=\"files[]\" multiple disabled />\n",
              "     <output id=\"result-91a7b9e7-54fb-447c-8839-7187d3cdcf6e\">\n",
              "      Upload widget is only available when the cell has been executed in the\n",
              "      current browser session. Please rerun this cell to enable.\n",
              "      </output>\n",
              "      <script src=\"/nbextensions/google.colab/files.js\"></script> "
            ],
            "text/plain": [
              "<IPython.core.display.HTML object>"
            ]
          },
          "metadata": {
            "tags": []
          }
        },
        {
          "output_type": "stream",
          "text": [
            "Saving processPumpData_SPRING.json to processPumpData_SPRING (1).json\n",
            "WARNING: unit 20 of package WEL already in use\n",
            "****Warning -- two packages of the same type:  <class 'flopy.modflow.mfwel.ModflowWel'> <class 'flopy.modflow.mfwel.ModflowWel'>\n",
            "replacing existing Package...\n",
            "!WELLS SUCCESSFULLY ADDED TO MODEL!\n"
          ],
          "name": "stdout"
        }
      ]
    },
    {
      "cell_type": "code",
      "metadata": {
        "id": "Y1_RgUD7hT3J",
        "colab_type": "code",
        "outputId": "280a5f3d-3d3d-4b9e-ac71-c2fd4ac34f09",
        "colab": {
          "base_uri": "https://localhost:8080/",
          "height": 347
        }
      },
      "source": [
        "#!ALERT this code block can take up to 20 minutes to run [SUMMER stress period]\n",
        "#I will experiment with speeding it up after the class is over\n",
        "#For now, unless you are modifying the input pumpage, skip this cell\n",
        "\n",
        "#map of pumpage data\n",
        "\n",
        "fig=plt.figure(figsize=(10,10)) #create 10 x 10 figure\n",
        "#Define a projection\n",
        "ax = plt.axes(projection=ccrs.PlateCarree(central_longitude=0.0))\n",
        "#Define the spatial domain to plot\n",
        "ax.set_xlim(sw_long,ne_long) #The spatial domain spans from minimum longitude to maximum longitude (x-direction)\n",
        "ax.set_ylim(sw_lat,ne_lat) #The spatial domain spans from minimum latitude to maximum latitude (y-direction)\n",
        "#Define a title for the plot\n",
        "ax.set_title('Map of pumpage in Green River Lowlands [SPRING]')\n",
        "\n",
        "#Using CartoPy, import several features from Natural Earth Data (see https://www.naturalearthdata.com/features/)\n",
        "#Large rivers:\n",
        "largerivers = cf.NaturalEarthFeature(\n",
        "    category='physical',\n",
        "    name='rivers_lake_centerlines',\n",
        "    scale='110m', # major rivers\n",
        "    facecolor='none')\n",
        "#Small rivers:\n",
        "smallrivers = cf.NaturalEarthFeature(\n",
        "    category='physical',\n",
        "    name='rivers_lake_centerlines_scale_rank',\n",
        "    scale='10m', # smaller rivers (still considered major by many/most people)\n",
        "    facecolor='none')\n",
        "#Smallest rivers:\n",
        "smallestrivers = cf.NaturalEarthFeature(\n",
        "    category='physical',\n",
        "    name='rivers_north_america',\n",
        "    scale='10m',\n",
        "    facecolor='none')\n",
        "#Population centers:\n",
        "popplaces = cf.NaturalEarthFeature(\n",
        "    category='cultural',\n",
        "    name='urban_areas', # plots municipal boundaries\n",
        "    scale='10m',\n",
        "    facecolor='plum')\n",
        "#Major roads:\n",
        "majorroads = cf.NaturalEarthFeature(\n",
        "    category='cultural',\n",
        "    name='roads',\n",
        "    scale='10m',\n",
        "    facecolor='none')\n",
        "\n",
        "# Add the features defined above to the plot, with various colors and markers\n",
        "ax.add_feature(popplaces,edgecolor='plum',linewidth=1.0) # Population centers will be light purple areas\n",
        "ax.add_feature(largerivers,edgecolor='aqua',linewidth=2.0) # Large, small, and smallest rivers will be light blue lines\n",
        "ax.add_feature(smallrivers,edgecolor='aqua',linewidth=1.5)\n",
        "ax.add_feature(smallestrivers,edgecolor='aqua',linewidth=1.0)\n",
        "ax.add_feature(majorroads,edgecolor='gray',linewidth=1.0) #Roads will be thin gray lines\n",
        "ax.add_feature(USCOUNTIES.with_scale('5m'))\n",
        "\n",
        "for row in plot_points_df.iterrows():\n",
        "  ax.plot(convert_to_LatLong(row[1][0])[1], convert_to_LatLong(row[1][0])[2], marker='o', markersize = -row[1][0][3]/4000, color = 'k', zorder = 10)"
      ],
      "execution_count": 43,
      "outputs": [
        {
          "output_type": "display_data",
          "data": {
            "image/png": "[encoded data removed]",
            "text/plain": [
              "<Figure size 720x720 with 1 Axes>"
            ]
          },
          "metadata": {
            "tags": [],
            "needs_background": "light"
          }
        }
      ]
    },
    {
      "cell_type": "markdown",
      "metadata": {
        "id": "GAVD2sGT4oRb",
        "colab_type": "text"
      },
      "source": [
        "## 3G. Define output control"
      ]
    },
    {
      "cell_type": "code",
      "metadata": {
        "colab_type": "code",
        "id": "NRhnNJU0TJhN",
        "colab": {}
      },
      "source": [
        "#create oc stress period data. \n",
        "spd = {(0, 0): ['print head', 'print budget', 'save head', 'save budget', 'save drawdown']}\n",
        "#create output control object\n",
        "oc = flopy.modflow.ModflowOc(model=m, stress_period_data=spd, compact=True)"
      ],
      "execution_count": 0,
      "outputs": []
    },
    {
      "cell_type": "markdown",
      "metadata": {
        "id": "VD9BUXun4si5",
        "colab_type": "text"
      },
      "source": [
        "## 3H. Solver"
      ]
    },
    {
      "cell_type": "code",
      "metadata": {
        "colab_type": "code",
        "id": "0tdHTKB-TMdU",
        "colab": {}
      },
      "source": [
        "# We will start by using the PCG solver with default settings\n",
        "#pcg = flopy.modflow.ModflowPcg(model=m)\n",
        "pcg = flopy.modflow.ModflowPcg(model=m,mxiter=200,iter1=50,hclose=1e-03,rclose=1e-03,relax=0.98,damp=0.3)"
      ],
      "execution_count": 0,
      "outputs": []
    },
    {
      "cell_type": "markdown",
      "metadata": {
        "id": "7yMH7xi9_CF9",
        "colab_type": "text"
      },
      "source": [
        "## 3I. Plot model inputs (boundary conditions, elevations)"
      ]
    },
    {
      "cell_type": "code",
      "metadata": {
        "colab_type": "code",
        "id": "s6ZbnrHqTVjd",
        "colab": {}
      },
      "source": [
        "'''Plot grid and boundary conditions [without drains]'''\n",
        "#----------------------------------------------------------------------------\n",
        "plt.figure(figsize=(10,10)) #create 10 x 10 figure\n",
        "modelmap = flopy.plot.PlotMapView(model=m, layer=0)\n",
        "#grid = modelmap.plot_grid()\n",
        "ib = modelmap.plot_ibound()\n",
        "rvr = modelmap.plot_bc(ftype='RIV')\n",
        "wel = modelmap.plot_bc(ftype='WEL', plotAll = True)\n",
        "\n",
        "#add labels and legend\n",
        "plt.xlabel('Lx (ft)',fontsize = 14)\n",
        "plt.ylabel('Ly (ft)',fontsize = 14)\n",
        "plt.title('Boundary Conditions', fontsize = 15, fontweight = 'bold')\n",
        "plt.legend(handles=[mp.patches.Patch(color='blue',label='Const. Head',ec='black'),\n",
        "                    mp.patches.Patch(color='white',label='Active Cell',ec='black'),\n",
        "                    mp.patches.Patch(color='black',label='Inactive Cell',ec='black'),\n",
        "                    mp.patches.Patch(color='green',label='River',ec='green'),\n",
        "                    mp.patches.Patch(color='red',label='Well',ec='red')],\n",
        "                    bbox_to_anchor=(1.5,1.0))\n",
        "plt.show()\n",
        "#----------------------------------------------------------------------------"
      ],
      "execution_count": 0,
      "outputs": []
    },
    {
      "cell_type": "code",
      "metadata": {
        "colab_type": "code",
        "id": "r27l4dJK-Ksv",
        "colab": {}
      },
      "source": [
        "'''Plot Recharge'''\n",
        "#----------------------------------------------------------------------------\n",
        "plt.figure(figsize=(10,10)) #create 10 x 10 figure\n",
        "modelmap = flopy.plot.map.PlotMapView(model=m, layer=0) #use plotmapview to attach plot to model\n",
        "#contour_levels = np.linspace(400,800,41)\n",
        "#topelevations = modelmap.contour_array(topgrid, levels = contour_levels) #create head contours\n",
        "#plt.clabel(topelevations, inline=True,fontsize=12,fmt='%1.0f')\n",
        "\n",
        "#create colormap of named colors\n",
        "colors = [\"saddlebrown\",\"lightgoldenrodyellow\"]\n",
        "cmap = mp.colors.LinearSegmentedColormap.from_list(\"\", colors)\n",
        "norm = mp.colors.LogNorm(vmin=kf,vmax=kc)\n",
        "modelmap.plot_array(khlayers[0],norm = norm,cmap=cmap)\n",
        "rvr = modelmap.plot_bc(ftype='RIV')\n",
        "ib = modelmap.plot_ibound()\n",
        "#display parameters\n",
        "plt.xlabel('Lx (ft)',fontsize = 14)\n",
        "plt.ylabel('Ly (ft)',fontsize = 14)\n",
        "plt.title('Surficial Conductivity', fontsize = 15, fontweight = 'bold')\n",
        "plt.legend(handles=[mp.patches.Patch(color='saddlebrown',label='Low Conductivity',ec='saddlebrown'),\n",
        "                    mp.patches.Patch(color='white',label='Recharge=7.985E-4 ft/d',ec='white'),\n",
        "                    mp.patches.Patch(color='white',ec='white'),\n",
        "                    mp.patches.Patch(color='lightgoldenrodyellow',label='High Conductivity',ec='lightgoldenrodyellow'),\n",
        "                    mp.patches.Patch(color='white',label='Recharge=1.597E-3 ft/d',ec='white')],\n",
        "                    bbox_to_anchor=(1.5,1.0))\n",
        "plt.show()"
      ],
      "execution_count": 0,
      "outputs": []
    },
    {
      "cell_type": "code",
      "metadata": {
        "id": "Q40v753ZBEuD",
        "colab_type": "code",
        "colab": {}
      },
      "source": [
        "plt.figure(figsize=(10,10)) #create 10 x 10 figure\n",
        "modelmap = flopy.plot.map.PlotMapView(model=m, layer=0) #use plotmapview to attach plot to model\n",
        "#contour_levels = np.linspace(400,800,41)\n",
        "#topelevations = modelmap.contour_array(topgrid, levels = contour_levels) #create head contours\n",
        "#plt.clabel(topelevations, inline=True,fontsize=12,fmt='%1.0f')\n",
        "\n",
        "#create colormap  that works with both logarithmic scaling and normal scaling\n",
        "norm = mp.colors.LogNorm(vmin=Tmin,vmax=Tmax)\n",
        "#Plot options for normal/log plots\n",
        "#x = modelmap.plot_array(Total, norm = norm, cmap= 'plasma')\n",
        "x = modelmap.plot_array(Total, cmap= 'plasma')\n",
        "# model bounds\n",
        "rvr = modelmap.plot_bc(ftype='RIV')\n",
        "ib = modelmap.plot_ibound()\n",
        "\n",
        "#display parameters\n",
        "plt.xlabel('Lx (ft)',fontsize = 14)\n",
        "plt.ylabel('Ly (ft)',fontsize = 14)\n",
        "plt.colorbar(x)\n",
        "plt.title('Transmissivity [ft^2/day]', fontsize = 15, fontweight = 'bold')"
      ],
      "execution_count": 0,
      "outputs": []
    },
    {
      "cell_type": "code",
      "metadata": {
        "id": "2Qxk16OXnVG7",
        "colab_type": "code",
        "colab": {}
      },
      "source": [
        "'''Plot the boundary conditions'''\n",
        "#----------------------------------------------------------------------------\n",
        "# Be sure to verify that the drain cells work as intended:\n",
        "# - Check that the locations of drain cells in the map below (magenta) match the locations of low-k material at land surface in the map above (dark brown)\n",
        "# - Additionally, check that the river cells appear in the map below, to ensure that they were not overwritten as drain cells.\n",
        "\n",
        "plt.figure(figsize=(10,10)) #create 10 x 10 figure\n",
        "modelmap = flopy.plot.PlotMapView(model=m, layer=0)\n",
        "#grid = modelmap.plot_grid()\n",
        "ib = modelmap.plot_ibound()\n",
        "rvr = modelmap.plot_bc(ftype='RIV')\n",
        "drain = modelmap.plot_bc(ftype='DRN',color='magenta')\n",
        "wel = modelmap.plot_bc(ftype='WEL', plotAll = True)\n",
        "\n",
        "#add labels and legend\n",
        "plt.xlabel('Lx (ft)',fontsize = 14)\n",
        "plt.ylabel('Ly (ft)',fontsize = 14)\n",
        "plt.title('Boundary Conditions', fontsize = 15, fontweight = 'bold')\n",
        "plt.legend(handles=[mp.patches.Patch(color='green',label='River',ec='green'),\n",
        "                    mp.patches.Patch(color='magenta',label='Drain',ec='magenta'),\n",
        "                    mp.patches.Patch(color='red',label='Well',ec='red')],\n",
        "                    bbox_to_anchor=(1.5,1.0))\n",
        "plt.show()"
      ],
      "execution_count": 0,
      "outputs": []
    },
    {
      "cell_type": "code",
      "metadata": {
        "id": "0zhTGZRqqTUq",
        "colab_type": "code",
        "colab": {}
      },
      "source": [
        "np.array(khlayers).shape"
      ],
      "execution_count": 0,
      "outputs": []
    },
    {
      "cell_type": "code",
      "metadata": {
        "id": "yTWhw4UA-yK3",
        "colab_type": "code",
        "colab": {}
      },
      "source": [
        "#Plot representative cross section\n",
        "plt.figure(figsize=(10,10)) #create 10 x 10 figure\n",
        "modelxsect = flopy.plot.PlotCrossSection(model = m, line={\"row\":50}) #use plotmapview to attach plot to model\n",
        "#modelxsect = flopy.plot.PlotCrossSection(model = m, line={\"column\":100})\n",
        "#create colormap of named colors\n",
        "colors = [\"saddlebrown\",\"gray\",\"lightgoldenrodyellow\"]\n",
        "cmap = mp.colors.LinearSegmentedColormap.from_list(\"\", colors)\n",
        "norm = mp.colors.LogNorm(vmin=kf,vmax=kc)\n",
        "#modelxsect.plot_grid()\n",
        "khlaynp = np.array(khlayers)\n",
        "lines = modelxsect.plot_array(khlaynp,norm=norm, cmap=cmap)\n",
        "rvr = modelxsect.plot_bc(ftype='RIV')\n",
        "wel = modelxsect.plot_bc(ftype='WEL')\n",
        "modelxsect.plot_ibound()"
      ],
      "execution_count": 0,
      "outputs": []
    },
    {
      "cell_type": "markdown",
      "metadata": {
        "id": "x4QPNEge41Mh",
        "colab_type": "text"
      },
      "source": [
        "# 4 Write and run the MODFLOW model"
      ]
    },
    {
      "cell_type": "code",
      "metadata": {
        "colab_type": "code",
        "id": "DH-U_oaiWTl8",
        "colab": {}
      },
      "source": [
        "# Write the model input\n",
        "m.write_input()\n",
        "# Execute the model run\n",
        "success, mfoutput = m.run_model(pause=False, report=True)\n",
        "# Report back if the model did not successfully complete\n",
        "if not success:\n",
        "    raise Exception('MODFLOW did not terminate normally.')"
      ],
      "execution_count": 0,
      "outputs": []
    },
    {
      "cell_type": "markdown",
      "metadata": {
        "id": "bN2ivrtx_5yz",
        "colab_type": "text"
      },
      "source": [
        "# 5 Plot Output Data"
      ]
    },
    {
      "cell_type": "code",
      "metadata": {
        "colab_type": "code",
        "id": "a7mhYeBVhDn6",
        "colab": {}
      },
      "source": [
        "'''Extract binary data from head and flow files'''\n",
        "#----------------------------------------------------------------------------\n",
        "#extract binary data from head file as flopy head object\n",
        "headobj = flopy.utils.binaryfile.HeadFile(modelname+'.hds')\n",
        "#extract head data from head object\n",
        "head = headobj.get_data(totim=1.0)"
      ],
      "execution_count": 0,
      "outputs": []
    },
    {
      "cell_type": "code",
      "metadata": {
        "colab_type": "code",
        "id": "MZxuJhCzg_F8",
        "colab": {}
      },
      "source": [
        "'''Plot results'''\n",
        "#----------------------------------------------------------------------------\n",
        "plt.figure(figsize=(10,10)) #create 10 x 10 figure\n",
        "modelmap = flopy.plot.map.PlotMapView(model=m, layer=0) #use plotmapview to attach plot to model\n",
        "#grid = modelmap.plot_grid() #plot model grid\n",
        "#contour_levels = np.linspace(head[0].min(),head[0].max(),11) #set contour levels for contouring head\n",
        "contour_levels = np.linspace(200,1000,61) #set contour levels for contouring head\n",
        "head_contours = modelmap.contour_array(head[8], levels=contour_levels) #create head contours\n",
        "plt.clabel(head_contours, inline=True,fontsize=12,fmt='%1.0f')\n",
        "rvr = modelmap.plot_bc(ftype='RIV')\n",
        "\n",
        "#display parameters\n",
        "plt.xlabel('Lx (ft)',fontsize = 14)\n",
        "plt.ylabel('Ly (ft)',fontsize = 14)\n",
        "plt.title('Steady-State Model, Flow(ft^3/d) and Head(ft) Results', fontsize = 15, fontweight = 'bold')\n",
        "plt.show()"
      ],
      "execution_count": 0,
      "outputs": []
    },
    {
      "cell_type": "markdown",
      "metadata": {
        "id": "mblTZE-3uOE_",
        "colab_type": "text"
      },
      "source": [
        "# 6 Model Calibration"
      ]
    },
    {
      "cell_type": "code",
      "metadata": {
        "id": "GpWgkEHYBBrS",
        "colab_type": "code",
        "colab": {}
      },
      "source": [
        "# Import \"GRL_basic_info.csv\" and read in as a dataframe\n",
        "# Work-around due to issues importing the files from GitHub\n",
        "uploaded = files.upload()\n",
        "\n",
        "del uploaded"
      ],
      "execution_count": 0,
      "outputs": []
    },
    {
      "cell_type": "code",
      "metadata": {
        "id": "9Diw4GjmTGRK",
        "colab_type": "code",
        "colab": {}
      },
      "source": [
        "# Import \"import_spring2019.csv\" and read in as a dataframe\n",
        "# Work-around due to issues importing the files from GitHub\n",
        "uploaded = files.upload()\n",
        "df_spring2019 = pd.read_csv('import_spring2019.csv',index_col=0)\n",
        "\n",
        "del uploaded"
      ],
      "execution_count": 0,
      "outputs": []
    },
    {
      "cell_type": "code",
      "metadata": {
        "id": "5LygXcRdjvST",
        "colab_type": "code",
        "colab": {}
      },
      "source": [
        "# Import \"import_summer2019.csv\" and read in as a dataframe\n",
        "# Work-around due to issues importing the files from GitHub\n",
        "uploaded = files.upload()\n",
        "df_summer2019 = pd.read_csv('import_summer2019.csv',index_col=0)\n",
        "\n",
        "del uploaded"
      ],
      "execution_count": 0,
      "outputs": []
    },
    {
      "cell_type": "code",
      "metadata": {
        "id": "v42De9BBD5G-",
        "colab_type": "code",
        "colab": {}
      },
      "source": [
        "# df_info\n",
        "\n",
        "# Read in \"GRL_basic_info.csv\" as a dataframe\n",
        "df_info = pd.read_csv('GRL_basic_info.csv',index_col=0)\n",
        "\n",
        "# Drop the row corresponding to the well with P-number 381671\n",
        "# This well has no measurements to which we can calibrate the model\n",
        "df_info=df_info.drop([381671])\n",
        "\n",
        "# Convert X_LAMBERT to column and Y_LAMBERT to row, and convert the new rows and columns to integers\n",
        "df_info['row'] = np.trunc((ney-df_info['Y_LAMBERT'])/dy)\n",
        "df_info['col'] = np.trunc((df_info['X_LAMBERT']-swx)/dx)\n",
        "df_info = df_info.astype({'row': int,'col': int})\n",
        "\n",
        "# trim the \"df_info\" dataframe to the model domain\n",
        "df_info = df_info.loc[df_info['X_LAMBERT']<nex]\n",
        "df_info = df_info.loc[df_info['Y_LAMBERT']<ney]\n",
        "df_info = df_info.loc[df_info['X_LAMBERT']>swx]\n",
        "df_info = df_info.loc[df_info['Y_LAMBERT']>swy]\n",
        "\n",
        "# Add in a column to \"df_info\" that includes the head at each well, as calculated by the model\n",
        "# These heads will be compared to the observed heads in the \"df_waterlevels\" dataframe\n",
        "df_info['head_calculated_ft']=np.nan\n",
        "\n",
        "# The following \"for\" loop fills in the \"head_calculated_ft\" column with the calculated head values from the model for each observation well\n",
        "for value in df_info.index:\n",
        "  # The following \"if / else if\" conditions identify the bottom-most layer of the model, for layers 4-9, where coarse material is located\n",
        "  # In other words, the following lines of code identify the deepest layer, between layers 4 and 9, that corresponds to the Sankoty aquifer\n",
        "  # The calculated heads for cells containing observation wells will be taken from this layer, in order to compare to the observed heads\n",
        "  if df_info.loc[value,'LOCAL_AQ_NAME']=='SANKOTY' and round(float(kl9[df_info.loc[value,'row']][df_info.loc[value,'col']]),5)==kf: #Layer 9\n",
        "    df_info.at[value,'head_calculated_ft'] = head[8][df_info.loc[value,'row']][df_info.loc[value,'col']]\n",
        "  elif df_info.loc[value,'LOCAL_AQ_NAME']=='SANKOTY' and round(float(kl8[df_info.loc[value,'row']][df_info.loc[value,'col']]),5)==kf: #Layer 8\n",
        "    df_info.at[value,'head_calculated_ft'] = head[7][df_info.loc[value,'row']][df_info.loc[value,'col']]\n",
        "  elif df_info.loc[value,'LOCAL_AQ_NAME']=='SANKOTY' and round(float(kl7[df_info.loc[value,'row']][df_info.loc[value,'col']]),5)==kf: #Layer 7\n",
        "    df_info.at[value,'head_calculated_ft'] = head[6][df_info.loc[value,'row']][df_info.loc[value,'col']]\n",
        "  elif df_info.loc[value,'LOCAL_AQ_NAME']=='SANKOTY' and round(float(kl6[df_info.loc[value,'row']][df_info.loc[value,'col']]),5)==kf: #Layer 6\n",
        "    df_info.at[value,'head_calculated_ft'] = head[5][df_info.loc[value,'row']][df_info.loc[value,'col']]\n",
        "  elif df_info.loc[value,'LOCAL_AQ_NAME']=='SANKOTY' and round(float(kl5[df_info.loc[value,'row']][df_info.loc[value,'col']]),5)==kf: #Layer 5\n",
        "    df_info.at[value,'head_calculated_ft'] = head[4][df_info.loc[value,'row']][df_info.loc[value,'col']]\n",
        "  elif df_info.loc[value,'LOCAL_AQ_NAME']=='SANKOTY' and round(float(kl4[df_info.loc[value,'row']][df_info.loc[value,'col']]),5)==kf: #Layer 4\n",
        "    df_info.at[value,'head_calculated_ft'] = head[3][df_info.loc[value,'row']][df_info.loc[value,'col']]\n",
        "  elif df_info.loc[value,'LOCAL_AQ_NAME']=='SANKOTY':  # Contingency case: if no cells are found that correspond to the Sankoty aquifer, layer 9 is used.\n",
        "                                                        # This case signals a limitation of our model.  Specifically, our cross-sections do not capture the presence of coarse material corresponding to the Sankoty aquifer at the location of an observation well, where coarse material must exist.\n",
        "    df_info.at[value,'head_calculated_ft'] = head[8][df_info.loc[value,'row']][df_info.loc[value,'col']]\n",
        "  \n",
        "  # The following \"if / else if\" conditions identify the bottom-most layer of the model, for layers 1-3, where coarse material is located\n",
        "  # In other words, the following lines of code identify the deepest layer, between layers 1 and 3, that corresponds to the Tampico aquifer\n",
        "  # The calculated heads for cells containing observation wells will be taken from this layer, in order to compare to the observed heads\n",
        "  if df_info.loc[value,'LOCAL_AQ_NAME']=='TAMPICO' and round(float(kl3[df_info.loc[value,'row']][df_info.loc[value,'col']]),5)==kf: #Layer 3\n",
        "    df_info.at[value,'head_calculated_ft'] = head[2][df_info.loc[value,'row']][df_info.loc[value,'col']]\n",
        "  elif df_info.loc[value,'LOCAL_AQ_NAME']=='TAMPICO' and round(float(kl2[df_info.loc[value,'row']][df_info.loc[value,'col']]),5)==kf: #Layer 2\n",
        "    df_info.at[value,'head_calculated_ft'] = head[1][df_info.loc[value,'row']][df_info.loc[value,'col']]\n",
        "  elif df_info.loc[value,'LOCAL_AQ_NAME']=='TAMPICO' and round(float(kl1[df_info.loc[value,'row']][df_info.loc[value,'col']]),5)==kf: #Layer 1\n",
        "    df_info.at[value,'head_calculated_ft'] = head[0][df_info.loc[value,'row']][df_info.loc[value,'col']]\n",
        "  elif df_info.loc[value,'LOCAL_AQ_NAME']=='TAMPICO':  # Contingency case: if no cells are found that correspond to the Tampico aquifer, layer 3 is used.\n",
        "                                                        # This case signals a limitation of our model.  Specifically, our cross-sections do not capture the presence of coarse material corresponding to the Tampico aquifer at the location of an observation well, where coarse material must exist.\n",
        "    df_info.at[value,'head_calculated_ft'] = head[2][df_info.loc[value,'row']][df_info.loc[value,'col']]"
      ],
      "execution_count": 0,
      "outputs": []
    },
    {
      "cell_type": "markdown",
      "metadata": {
        "id": "PztieXLsLVyX",
        "colab_type": "text"
      },
      "source": [
        "### Calibration for Spring 2019"
      ]
    },
    {
      "cell_type": "code",
      "metadata": {
        "id": "LCrYMgkEUxCd",
        "colab_type": "code",
        "colab": {}
      },
      "source": [
        "# Calibration for Spring 2019\n",
        "# Make sure SPRING wells are used\n",
        "\n",
        "# Create a new column in the \"df_info\" dataframe for observed heads from Summer 2019\n",
        "df_info['head_spring2019_ft']=np.nan\n",
        "\n",
        "# Change the NaN values in the new column to the observed head values, obtained from the imported \"df_summer2019\" dataframe\n",
        "for value in df_info.index:\n",
        "  df_info.at[value,'head_spring2019_ft'] = df_spring2019.loc[value,'Water_Surface_Elevation']\n",
        "\n",
        "# Plot the calculated and observed values for comparison\n",
        "plt.scatter(df_info.head_spring2019_ft, df_info.head_calculated_ft)\n",
        "plt.plot(df_info.head_spring2019_ft,df_info.head_spring2019_ft)\n",
        "\n",
        "one_to_one = mp.lines.Line2D(df_info.head_spring2019_ft,df_info.head_spring2019_ft, label='1 to 1 Line')\n",
        "\n",
        "plt.xlabel('Observed Water Level (ft)')\n",
        "plt.ylabel('Calculated Water Level (ft)')\n",
        "plt.legend(handles=[one_to_one])\n",
        "plt.show()"
      ],
      "execution_count": 0,
      "outputs": []
    },
    {
      "cell_type": "code",
      "metadata": {
        "id": "fWQddruqLcpO",
        "colab_type": "code",
        "colab": {}
      },
      "source": [
        "# Calculate the RMS error\n",
        "df_info['diff^2_ft']=(df_info.head_calculated_ft-df_info.head_spring2019_ft)**2 # Create a new column in \"df_info\", containing the differences squared between the calculated and observed head values\n",
        "RMS=math.sqrt(np.mean(df_info['diff^2_ft']))# Calculate the RMS error as the square root of the average of the new \"diff^2_ft\" column\n",
        "print('The RMS error was calculated to be',RMS)\n",
        "\n",
        "# Create a new column in the \"df_info\" dataframe containing the calculated error for each observation well\n",
        "# Positive error means the model head is too low (not enough water)\n",
        "# Negative error means the model head is too high (too much water)\n",
        "df_info['error']=df_info['head_spring2019_ft']-df_info['head_calculated_ft']"
      ],
      "execution_count": 0,
      "outputs": []
    },
    {
      "cell_type": "markdown",
      "metadata": {
        "id": "TTvSifxCMVxI",
        "colab_type": "text"
      },
      "source": [
        "### Calibration for Summer 2019"
      ]
    },
    {
      "cell_type": "code",
      "metadata": {
        "id": "VpOZcrL_ksaI",
        "colab_type": "code",
        "colab": {}
      },
      "source": [
        "# Calibration for Summer 2019\n",
        "# Make sure SUMMER wells are used\n",
        "\n",
        "# Create a new column in the \"df_info\" dataframe for observed heads from Summer 2019\n",
        "df_info['head_summer2019_ft']=np.nan\n",
        "\n",
        "# Change the NaN values in the new column to the observed head values, obtained from the imported \"df_summer2019\" dataframe\n",
        "for value in df_info.index:\n",
        "  df_info.at[value,'head_summer2019_ft'] = df_summer2019.loc[value,'Water_Surface_Elevation']\n",
        "\n",
        "# Plot the calculated and observed values for comparison\n",
        "plt.scatter(df_info.head_summer2019_ft, df_info.head_calculated_ft)\n",
        "plt.plot(df_info.head_summer2019_ft, df_info.head_summer2019_ft)\n",
        "\n",
        "one_to_one = mp.lines.Line2D(df_info.head_summer2019_ft,df_info.head_summer2019_ft, label='1 to 1 Line')\n",
        "\n",
        "plt.xlabel('Observed Water Level (ft)')\n",
        "plt.ylabel('Calculated Water Level (ft)')\n",
        "plt.legend(handles=[one_to_one])\n",
        "plt.show()"
      ],
      "execution_count": 0,
      "outputs": []
    },
    {
      "cell_type": "code",
      "metadata": {
        "id": "mouHY8d6FN1_",
        "colab_type": "code",
        "colab": {}
      },
      "source": [
        "# Calculate the RMS error\n",
        "df_info['diff^2_ft']=(df_info.head_calculated_ft-df_info.head_summer2019_ft)**2 # Create a new column in \"df_info\", containing the differences squared between the calculated and observed head values\n",
        "RMS=math.sqrt(np.mean(df_info['diff^2_ft']))# Calculate the RMS error as the square root of the average of the new \"diff^2_ft\" column\n",
        "print('The RMS error was calculated to be',RMS)\n",
        "\n",
        "# Create a new column in the \"df_info\" dataframe containing the calculated error for each observation well\n",
        "# Positive error means the model head is too low (not enough water)\n",
        "# Negative error means the model head is too high (too much water)\n",
        "df_info['error']=df_info['head_summer2019_ft']-df_info['head_calculated_ft']"
      ],
      "execution_count": 0,
      "outputs": []
    },
    {
      "cell_type": "markdown",
      "metadata": {
        "id": "Is2kJb95Lpa0",
        "colab_type": "text"
      },
      "source": [
        "### Plot the calculated error on a map"
      ]
    },
    {
      "cell_type": "code",
      "metadata": {
        "id": "1_xbNnZmL79v",
        "colab_type": "code",
        "colab": {}
      },
      "source": [
        "# Note that the code blocks below will pull the data for whichever scenario was simulated, summer or spring"
      ],
      "execution_count": 0,
      "outputs": []
    },
    {
      "cell_type": "code",
      "metadata": {
        "id": "lSXaHFH0FPxh",
        "colab_type": "code",
        "colab": {}
      },
      "source": [
        "#Define the area over which to plot data\n",
        "\n",
        "#Conduct the Universal Kriging, for the most recent data point\n",
        "#The summer 2019 data will be addressed later\n",
        "UK = UniversalKriging(df_info['LONG_WGS_84'], df_info['LAT_WGS_84'],df_info['error'], variogram_model='spherical',nlags=6)\n",
        "\n",
        "#Create xpoints and ypoints in space, with 0.01 spacing\n",
        "xpoints = np.arange(sw_long,ne_long,0.01)\n",
        "ypoints = np.arange(sw_lat,ne_lat,0.01)\n",
        "\n",
        "# create a meshgrid with xpoints and ypoints, to be used later in the code\n",
        "X,Y = np.meshgrid(xpoints,ypoints)\n",
        "\n",
        "# calculate the interpolated grid and fill values.\n",
        "z, var = UK.execute('grid', xpoints, ypoints)\n",
        "z = z.filled(fill_value=None)"
      ],
      "execution_count": 0,
      "outputs": []
    },
    {
      "cell_type": "code",
      "metadata": {
        "id": "v-ONZ9MtFRdU",
        "colab_type": "code",
        "colab": {}
      },
      "source": [
        "#Create a figure\n",
        "fig=plt.figure(figsize=(10,10)) #create 10 x 10 figure\n",
        "#Define a projection\n",
        "ax = plt.axes(projection=ccrs.PlateCarree())\n",
        "#Define the spatial domain to plot\n",
        "ax.set_xlim(sw_long,ne_long) #The spatial domain spans from minimum longitude to maximum longitude (x-direction)\n",
        "ax.set_ylim(sw_lat,ne_lat) #The spatial domain spans from minimum longitude to maximum latitude (y-direction)\n",
        "#Define a title for the plot\n",
        "ax.set_title('Calculated error (ft difference) over the model area')\n",
        "\n",
        "#Using CartoPy, import several features from Natural Earth Data (see https://www.naturalearthdata.com/features/)\n",
        "#Large rivers:\n",
        "largerivers = cf.NaturalEarthFeature(\n",
        "    category='physical',\n",
        "    name='rivers_lake_centerlines',\n",
        "    scale='110m', # major rivers\n",
        "    facecolor='none')\n",
        "#Small rivers:\n",
        "smallrivers = cf.NaturalEarthFeature(\n",
        "    category='physical',\n",
        "    name='rivers_lake_centerlines_scale_rank',\n",
        "    scale='10m', # smaller rivers (still considered major by many/most people)\n",
        "    facecolor='none')\n",
        "#Smallest rivers:\n",
        "smallestrivers = cf.NaturalEarthFeature(\n",
        "    category='physical',\n",
        "    name='rivers_north_america',\n",
        "    scale='10m',\n",
        "    facecolor='none')\n",
        "#Population centers:\n",
        "popplaces = cf.NaturalEarthFeature(\n",
        "    category='cultural',\n",
        "    name='urban_areas', # plots municipal boundaries\n",
        "    scale='10m',\n",
        "    facecolor='plum')\n",
        "#Major roads:\n",
        "majorroads = cf.NaturalEarthFeature(\n",
        "    category='cultural',\n",
        "    name='roads',\n",
        "    scale='10m',\n",
        "    facecolor='none')\n",
        "\n",
        "# Add the features defined above to the plot, with various colors and markers\n",
        "ax.add_feature(popplaces,edgecolor='plum',linewidth=1.0) # Population centers will be light purple areas\n",
        "ax.add_feature(largerivers,edgecolor='aqua',linewidth=2.0) # Large, small, and smallest rivers will be light blue lines\n",
        "ax.add_feature(smallrivers,edgecolor='aqua',linewidth=2.0)\n",
        "ax.add_feature(smallestrivers,edgecolor='aqua',linewidth=2.0)\n",
        "ax.add_feature(majorroads,edgecolor='gray',linewidth=1.0) #Roads will be thin gray lines\n",
        "ax.add_feature(USCOUNTIES.with_scale('5m'))\n",
        "\n",
        "#Create contours from the interpolation\n",
        "error_contour_levels = [-60,-45,-30,-15,0,15,30,45,60,75] # Set contour levels for contouring error, use this line for summer\n",
        "#error_contour_levels = [-80,-70,-60,-50,-40,-30,-20,-10,0,10] # Set contour levels for contouring error, use this line for spring\n",
        "cset_contour = plt.contour(X,Y,z,error_contour_levels,colors='blue')\n",
        "\n",
        "#Add in a continuous color flood\n",
        "#cset_fill=plt.imshow(z,vmin=-100,vmax=100,cmap=plt.cm.coolwarm,origin='lower',extent=[X.min(), X.max(), Y.min(), Y.max()])\n",
        "cset_fill=plt.imshow(z,vmin=-100,vmax=100,cmap=plt.cm.coolwarm,origin='lower',extent=[X.min(), X.max(), Y.min(), Y.max()])\n",
        "\n",
        "#The following code could also be used, if a discrete color flood is preferred:\n",
        "#cset_fill = plt.contourf(X,Y,z,vmin=-100,vmax=100,cmap=plt.cm.coolwarm)\n",
        "\n",
        "#Label contours (makes use of pylab)\n",
        "pylab.clabel(cset_contour, inline=1, fontsize=10,fmt='%1.0f')\n",
        "\n",
        "#Plot the points that were measured\n",
        "points=plt.scatter(df_info['LONG_WGS_84'], df_info['LAT_WGS_84'], marker=\".\", color=\"black\", label=\"Data Points\")\n",
        "\n",
        "#Add a legend to the plot\n",
        "cities_towns=mpatches.Patch(color='plum',label='Population Centers') #Here I create a proxy artist to represent population centers on the legend\n",
        "rivers=mlines.Line2D([],[],linewidth=2.0,color='aqua',label='Rivers') #Proxy artist for large and small rivers\n",
        "roads=mlines.Line2D([],[],linewidth=1.0,color='gray',label='Roads') #Proxy artist for major roads\n",
        "ax.legend(loc='lower left',handles=[cities_towns,points,rivers,roads])\n",
        "\n",
        "#Add in a colorbar\n",
        "cax = fig.add_axes([0.34, 0.32, 0.25, 0.03])\n",
        "fig.colorbar(cset_fill, cax=cax, orientation='horizontal')\n",
        "plt.show()"
      ],
      "execution_count": 0,
      "outputs": []
    },
    {
      "cell_type": "code",
      "metadata": {
        "id": "qlD4gXdIOEdw",
        "colab_type": "code",
        "colab": {}
      },
      "source": [
        "df_info.error.min()"
      ],
      "execution_count": 0,
      "outputs": []
    },
    {
      "cell_type": "code",
      "metadata": {
        "id": "6UlnPQbfOHc2",
        "colab_type": "code",
        "colab": {}
      },
      "source": [
        "df_info.error.max()"
      ],
      "execution_count": 0,
      "outputs": []
    },
    {
      "cell_type": "markdown",
      "metadata": {
        "id": "ltTkMHry04jS",
        "colab_type": "text"
      },
      "source": [
        "# 7 Calculate Discharge"
      ]
    },
    {
      "cell_type": "code",
      "metadata": {
        "id": "OpJw5gSs08FB",
        "colab_type": "code",
        "colab": {}
      },
      "source": [
        "# first of all, read my_model.list file (this contains the information taht we need for discharge)\n",
        "# the budget is returned as recarray\n",
        "from flopy.utils import mflistfile\n",
        "mf_list = mflistfile.MfusgListBudget(\"my_model.list\")\n",
        "budget = mf_list.get_cumulative()"
      ],
      "execution_count": 0,
      "outputs": []
    },
    {
      "cell_type": "code",
      "metadata": {
        "id": "bBNHC74RIcYT",
        "colab_type": "code",
        "colab": {}
      },
      "source": [
        "# convert the recarray to pandas dataframe\n",
        "data = pd.DataFrame(budget)\n",
        "# print(data)"
      ],
      "execution_count": 0,
      "outputs": []
    },
    {
      "cell_type": "code",
      "metadata": {
        "id": "SXBw_ZGa_uJx",
        "colab_type": "code",
        "colab": {}
      },
      "source": [
        "# use the river leakage out minus in to calculate the discharge at current situation (summer 2019)\n",
        "discharge_current = int(data['RIVER_LEAKAGE_OUT'] - data['RIVER_LEAKAGE_IN'])  #ft3/day\n",
        "print('The discharge of current situation is', discharge_current, 'ft3/day.')"
      ],
      "execution_count": 0,
      "outputs": []
    },
    {
      "cell_type": "code",
      "metadata": {
        "id": "cu5EKbImP8o8",
        "colab_type": "code",
        "colab": {}
      },
      "source": [
        "# discharge_pre is the discharge of pre-development where there's no pumping\n",
        "# I use the same method as above to calculate this at a different file and copy paste the result here\n",
        "discharge_pre = 38593780 #ft3/day\n",
        "discharge_diff = discharge_pre - discharge_current\n",
        "print('The reduction in natural groundwater discharge is', discharge_diff, 'ft3/day.')"
      ],
      "execution_count": 0,
      "outputs": []
    }
  ]
}